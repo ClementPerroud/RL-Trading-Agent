{
 "cells": [
  {
   "cell_type": "code",
   "execution_count": 33,
   "metadata": {},
   "outputs": [
    {
     "name": "stderr",
     "output_type": "stream",
     "text": [
      "c:\\Users\\cleme\\miniconda3\\lib\\site-packages\\tqdm\\auto.py:22: TqdmWarning: IProgress not found. Please update jupyter and ipywidgets. See https://ipywidgets.readthedocs.io/en/stable/user_install.html\n",
      "  from .autonotebook import tqdm as notebook_tqdm\n"
     ]
    }
   ],
   "source": [
    "import pandas as pd\n",
    "import numpy as np\n",
    "import glob\n",
    "from pathlib import Path\n",
    "from tqdm.auto import tqdm  \n",
    "\n",
    "from gym_trading_env.downloader import download\n",
    "import datetime"
   ]
  },
  {
   "cell_type": "code",
   "execution_count": 34,
   "metadata": {},
   "outputs": [],
   "source": [
    "download_dir = \"data/raw\"\n",
    "processed_dir = \"data/processed/\"\n",
    "\n",
    "TARGET_TIMEFRAME = pd.Timedelta(\"30m\")\n",
    "download_timeframe = \"5m\""
   ]
  },
  {
   "attachments": {},
   "cell_type": "markdown",
   "metadata": {},
   "source": [
    "# Download"
   ]
  },
  {
   "cell_type": "code",
   "execution_count": null,
   "metadata": {},
   "outputs": [],
   "source": [
    "download(\n",
    "    exchange_names = [\"binance\", \"bitfinex2\", \"huobi\"],\n",
    "    symbols= [\"BTC/USDT\", \"ETH/USDT\"],\n",
    "    timeframe= download_timeframe,\n",
    "    dir = download_dir,\n",
    "    since= datetime.datetime(year= 2019, month= 1, day=1),\n",
    ")"
   ]
  },
  {
   "attachments": {},
   "cell_type": "markdown",
   "metadata": {},
   "source": [
    "# Process"
   ]
  },
  {
   "cell_type": "code",
   "execution_count": 37,
   "metadata": {},
   "outputs": [
    {
     "name": "stderr",
     "output_type": "stream",
     "text": [
      "100%|██████████| 6/6 [12:36<00:00, 126.04s/it]\n"
     ]
    }
   ],
   "source": [
    "pathes = glob.glob(f\"{download_dir}/*pkl\")\n",
    "for path in tqdm(pathes):\n",
    "    name = Path(path).name.split(\".\")[0]\n",
    "    df  = pd.read_pickle(path)\n",
    "    timeframe = (df.index - df.index.to_series().shift(1)).value_counts().index[0]\n",
    "    for offset in range(TARGET_TIMEFRAME//timeframe):\n",
    "        process_df = df.resample(\"30min\", offset= offset*timeframe).agg({\n",
    "            \"date_close\": lambda x : x[-1] if len(x) > 0 else np.nan,\n",
    "            \"open\": lambda x : x[0] if len(x) > 0 else np.nan,\n",
    "            \"high\": lambda x : max(x) if len(x) > 0 else np.nan,\n",
    "            \"low\": lambda x : min(x) if len(x) > 0 else np.nan,\n",
    "            \"close\": lambda x : x[-1] if len(x) > 0 else np.nan,\n",
    "            \"volume\": lambda x : sum(x) if len(x) > 0 else np.nan\n",
    "        })[1:-1]\n",
    "        process_df.dropna(inplace = True)\n",
    "        process_df.to_pickle(f\"data/processed/{name}-{offset}.pkl\")"
   ]
  }
 ],
 "metadata": {
  "kernelspec": {
   "display_name": "base",
   "language": "python",
   "name": "python3"
  },
  "language_info": {
   "codemirror_mode": {
    "name": "ipython",
    "version": 3
   },
   "file_extension": ".py",
   "mimetype": "text/x-python",
   "name": "python",
   "nbconvert_exporter": "python",
   "pygments_lexer": "ipython3",
   "version": "3.9.15"
  },
  "orig_nbformat": 4
 },
 "nbformat": 4,
 "nbformat_minor": 2
}
